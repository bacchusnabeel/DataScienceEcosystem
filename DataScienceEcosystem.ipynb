{
  "nbformat": 4,
  "nbformat_minor": 0,
  "metadata": {
    "colab": {
      "provenance": []
    },
    "kernelspec": {
      "name": "python3",
      "display_name": "Python 3"
    },
    "language_info": {
      "name": "python"
    }
  },
  "cells": [
    {
      "cell_type": "markdown",
      "source": [
        "# Data Science Tools and Ecosystem"
      ],
      "metadata": {
        "id": "6yARCKjcT9Z_"
      }
    },
    {
      "cell_type": "markdown",
      "source": [
        "In this notebook, Data Science Tools and Ecosystem are summarized."
      ],
      "metadata": {
        "id": "YgS4AN1MUDue"
      }
    },
    {
      "cell_type": "markdown",
      "source": [
        "Some of the popular languages that Data Scientists use are: Python, SQL, and R"
      ],
      "metadata": {
        "id": "GqRhD8wiUEa9"
      }
    },
    {
      "cell_type": "markdown",
      "source": [
        "Some of the commonly used libraries used by Data Scientists include: sklearn, seaborn, tensorflow, matplotlib, and pandas"
      ],
      "metadata": {
        "id": "ZGfLaZhTUJ57"
      }
    },
    {
      "cell_type": "markdown",
      "source": [
        "|Data Science Tools|\n",
        "| --- |\n",
        "|Jupyter Notebook|\n",
        "|R Studio|\n",
        "|Spark|"
      ],
      "metadata": {
        "id": "UzPcCfkUUb51"
      }
    },
    {
      "cell_type": "markdown",
      "source": [
        "### Below are a few examples of evaluating arithmetic expressions in Python"
      ],
      "metadata": {
        "id": "xBElj1zMVQvz"
      }
    },
    {
      "cell_type": "code",
      "source": [
        "# This a simple arithmetic expression to mutiply then add integers\n",
        "eval = (3*4)+5\n",
        "print(eval)\n",
        "print(eval==17)"
      ],
      "metadata": {
        "colab": {
          "base_uri": "https://localhost:8080/"
        },
        "id": "Z9DytL_YV0W0",
        "outputId": "96f895db-cfc4-4cc2-9b07-372117e95879"
      },
      "execution_count": 1,
      "outputs": [
        {
          "output_type": "stream",
          "name": "stdout",
          "text": [
            "17\n",
            "True\n"
          ]
        }
      ]
    },
    {
      "cell_type": "code",
      "source": [
        "# This will convert 200 minutes to hours by diving by 60\n",
        "print(200 / 60)"
      ],
      "metadata": {
        "colab": {
          "base_uri": "https://localhost:8080/"
        },
        "id": "Y6BxFLMrV3EE",
        "outputId": "7b2f26e5-2c7d-4175-e8af-693a4f04dda5"
      },
      "execution_count": 2,
      "outputs": [
        {
          "output_type": "stream",
          "name": "stdout",
          "text": [
            "3.3333333333333335\n"
          ]
        }
      ]
    },
    {
      "cell_type": "markdown",
      "source": [
        "**Objectives:** List popular languages for Data Science.\n",
        "\n",
        "*   Python\n",
        "*   SQL\n",
        "*   R\n",
        "\n"
      ],
      "metadata": {
        "id": "Infy7FHMWjeB"
      }
    },
    {
      "cell_type": "markdown",
      "source": [
        "## Author\n",
        "Nabeel Bacchus"
      ],
      "metadata": {
        "id": "G-b69kVBW9Yr"
      }
    }
  ]
}